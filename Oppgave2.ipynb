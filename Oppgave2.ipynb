{
 "cells": [
  {
   "cell_type": "markdown",
   "metadata": {},
   "source": [
    "## Del 2: Varmeledning\n",
    "\n",
    "Varmeledning er prosessen der varme overføres gjennom et materiale. Dette skjer når det er temperaturforskjeller i ulike deler av materialet. For å beregne varmeledning, så kan man løse varmelikningen.\n",
    "\n",
    "Vi skal etter hvert løse varmelikningen, hvor vi ser på en modell for steking i en ovn. \n",
    "\n",
    "Før vi kommer så langt så varmer vi opp med noen øvingsoppgaver om løsning av (relevante) partielle differensialligninger. Vi henviser til forelesningene og jupyter-notatene for informasjon om hvordan likningene løses."
   ]
  },
  {
   "cell_type": "code",
   "execution_count": null,
   "metadata": {},
   "outputs": [],
   "source": [
    "#kodeblokk for oppgave 2"
   ]
  }
 ],
 "metadata": {
  "kernelspec": {
   "display_name": "venv",
   "language": "python",
   "name": "python3"
  },
  "language_info": {
   "codemirror_mode": {
    "name": "ipython",
    "version": 3
   },
   "file_extension": ".py",
   "mimetype": "text/x-python",
   "name": "python",
   "nbconvert_exporter": "python",
   "pygments_lexer": "ipython3",
   "version": "3.13.1"
  }
 },
 "nbformat": 4,
 "nbformat_minor": 2
}
