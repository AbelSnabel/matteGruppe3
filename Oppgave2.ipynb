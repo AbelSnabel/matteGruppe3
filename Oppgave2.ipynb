{
 "cells": [
  {
   "cell_type": "markdown",
   "metadata": {},
   "source": [
    "## Oppgave 2. Rødt lys (15 poeng)\n",
    "\n",
    "Vi ser på trafikkflyten på en veistrekning med posisjoner $x\\in [-1000,1000]$ og tid $t\\geq 0$.\n",
    "Måleenhetene er meter og sekunder. \n",
    "\n",
    "Når $t<0$ så står alle bilene og venter ved et rødt lys ved posisjon $x=0$. Det er ingen biler ved $x>0$, og bilene står med tetthet $u_{max}$ for $x<0$. \n",
    "\n",
    "Når $t=0$ så blir lyset grønt, og bilene begynner å bevege seg.\n",
    "\n",
    "Modellen beskrives (som forklart over) med:\n",
    "$$\n",
    "\\begin{align}\\tag{12}\n",
    "u_t + J(u)_x = 0, \\quad J(u) = u\\cdot v(u)\n",
    "\\end{align}\n",
    "$$\n",
    "for $x\\in [-1000,1000]$ og $t\\geq 0$.\n",
    "\n",
    "Vi bruker \n",
    "$$\n",
    "\\begin{align}\\tag{13}\n",
    "v(u) = v_{max} \\left(1-\\left(\\frac{u}{u_{max}}\\right)^p\\right)\n",
    "\\end{align}\n",
    "$$\n",
    "for et tall $p\\geq 1$. \n",
    "\n",
    "Vi antar at det ikke kommer noen nye biler inn i veistrekningen. Dvs. $u(-1000,t)=0$ for alle\n",
    "verdier av $t$.\n",
    "\n",
    "### a) Initialverdibetingelsen\n",
    "\n",
    "Vi har initialverdibetingelsen $u(x,0)=u_0(x)$ som beskriver tettheten av biler mens det er rødt lys.\n",
    "\n",
    "Skriv ned en formel som beskriver $u_0(x)$, og tegn en skisse til denne funksjonen.\n",
    "\n",
    "Diskuter grafen, og forklar hvorfor grafen ser ut slik den gjør.\n",
    "\n",
    "### b) Verdiene $v_{max}$ og $u_{max}$ og randbetingelsen for $x=1000$.\n",
    "\n",
    "Dere må selv velge noen passende (og realistiske) verdier for verdiene $v_{max}$ og $u_{max}$ og forklare hvorfor dere mener dette er gode verdier. Dere kan ta utgangspunkt i vanlige biler på vanlige norske veier.\n",
    "\n",
    "Vi trenger også en randbetingelse $u(1000, t)$. Forklar hva det betyr for trafikken på veien for $x>1000$ hvis vi antar $u(1000,t)=0$? Hva sier det om trafikken for $x>1000$ hvis $u(1000,t)=u_{max}$?\n",
    "\n",
    "Dere skal bruke randbetingelsen $u(1000, t)=0$ i fortsettelsen.\n",
    "\n",
    "### c) Løs differensiallikningen\n",
    "\n",
    "Løs likning $[12]$ ved hjelp av Lax-Friedrichs sin metode for de tre ulike verdiene $p=1,2,5$. Du finner flere eksempler på Lax-Friedrichs sin metode i notatbøkene; se spesielt notat 6.2 om <i>Lax-Friedrichs metode og bevaringslover</i>.\n",
    "\n",
    "Lag animasjoner som viser hvordan $u(x,t)$ endrer seg med hensyn på tiden. Beskriv i rapporten hva som skjer. (Du trenger ikke ta med animasjonene i rapporten).\n",
    "\n",
    "Svar deretter på d) og e) for hver av de tre verdiene av $p$.\n",
    "\n",
    "### d) Bevegelsen til en enkelt bil\n",
    "\n",
    "La $V(t)$ og $P(t)$ beskrive hastigheten og posisjonen til en bil som befinner seg ved $x=-1000$ på veien. \n",
    "Regn ut $V(t)$ og $P(t)$, og tegn grafen til disse. \n",
    "\n",
    "For å løse problemet så må du bruke at:\n",
    "\n",
    "1. $P(0)=-1000$ og $V(0)=0$ \n",
    "2. $V(t)=v(u(P(t), t))$\n",
    "3. $P(t + \\Delta t) = P(t) + \\Delta t\\cdot V(t)$\n",
    "\n",
    "### e) Hastigheten til en kø\n",
    "\n",
    "La $K(t)$ være posisjonen til bilen som starter å bevege seg ved tid $t$.\n",
    "\n",
    "Finn $K(t)$, og tegn grafen.\n",
    "\n",
    "Hva er tiden $t$ når alle bilene er i bevegelse?\n",
    "\n",
    "### f) Valg av parameter $p$\n",
    "\n",
    "Med utgangspunkt i svarene fra c) og d) og Oppgave 1 f), forklar hvordan ulike valg av $p\\geq 1$ beskriver ulike valg for kjøreatferd i trafikkmodellen. "
   ]
  },
  {
   "cell_type": "code",
   "execution_count": 2,
   "metadata": {},
   "outputs": [
    {
     "name": "stdout",
     "output_type": "stream",
     "text": [
      "Hei igjen Emil!!!\n"
     ]
    }
   ],
   "source": [
    "#kodeblokk for oppgave 2\n",
    "print(\"Hei igjen Emil!!!\")"
   ]
  }
 ],
 "metadata": {
  "kernelspec": {
   "display_name": "venv",
   "language": "python",
   "name": "python3"
  },
  "language_info": {
   "codemirror_mode": {
    "name": "ipython",
    "version": 3
   },
   "file_extension": ".py",
   "mimetype": "text/x-python",
   "name": "python",
   "nbconvert_exporter": "python",
   "pygments_lexer": "ipython3",
   "version": "3.13.1"
  }
 },
 "nbformat": 4,
 "nbformat_minor": 2
}
