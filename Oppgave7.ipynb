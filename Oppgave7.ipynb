{
 "cells": [
  {
   "cell_type": "markdown",
   "metadata": {},
   "source": [
    "## Oppgave 7: Luften skal med (10 poeng)\n",
    "\n",
    "Vår antagelse at temperaturen i luften holdes konstant ved $200$ grader er ikke realistisk. I realiteten vil temperaturen i ovnen gå ned når et kaldere legeme settes inn i ovnen. \n",
    "\n",
    "Det vil også oppstå konveksjon, men dette er noe vi vil ignorere i denne oppgaven.\n",
    "\n",
    "Vi tar et lag av luft rundt legemet med i modellen. I luftlaget så har vi fortsatt den partielle differensiallikningen\n",
    "$$\n",
    "\\begin{align}\\tag{20}\n",
    "u_t = \\alpha \\cdot ( u_{xx} + u_{yy} ),\n",
    "\\end{align}\n",
    "$$\n",
    "hvor $\\alpha$ tar en annen lavere verdi som passer bedre til luft.\n",
    "\n",
    "På randen rundt luftlaget har vi fortsatt konstant temperatur $200$ for alle verdier av $t$.\n",
    "\n",
    "I luftlaget så er temperaturen $200$ grader når $t=0$. Temperaturen til legemet vi setter inn ved $t=0$ er $15$ grader.\n",
    "\n",
    "Bredden og høyden av luftlaget skal være omtrent halvparten av bredden og høyden til legemet. Dere kan selv bestemme de nøyaktige dimensjonene.\n",
    "\n",
    "### a)\n",
    "\n",
    "Sett opp problemet og kjør beregningene fra oppgave 6 på nytt. Det vil si, sett opp den partielle differensiallikningen med rand- og initialbetingelser. Løs deretter likningen numerisk.\n",
    "\n",
    "Legg ved et *varmeplot* (altså fargeplot med rødt for varmt og blått for kaldt) for noen ulike tidspunkt.\n",
    "\n",
    "### b)\n",
    "\n",
    "Lag en animasjon som viser hvordan temperaturen til legemet endrer seg over tid.\n",
    "\n",
    "Dere trenger ikke inkludere animasjonen i rapporten, men inkluder kildekode, og diskuter hva dere observerer.\n",
    "\n",
    "### c)\n",
    "\n",
    "Hvor lang tid tar det før temperaturen i midten av legemet når 60 grader? Tegn et varmeplot for tidspunktet dette skjer.\n",
    "\n",
    "\n"
   ]
  },
  {
   "cell_type": "code",
   "execution_count": null,
   "metadata": {},
   "outputs": [],
   "source": [
    "import numpy as np\n",
    "import matplotlib.pyplot as plt\n",
    "import matplotlib.animation as animation\n",
    "from IPython.display import HTML\n",
    "import numpy.linalg as la\n",
    "\n",
    "\n",
    "xsize = 26  # cm\n",
    "ysize = 26  # cm\n",
    "objectsize = 10  # cm\n",
    "m = 100  #antall punkter x\n",
    "n = 100  #antall punkter y\n",
    "dx = xsize / (m+1) \n",
    "dy = ysize / (n+1)\n",
    "dt = 0.001  #tid/steg\n",
    "steps = 40000 #antall steg\n",
    "tid = dt*steps #total tid\n",
    "\n",
    "obj = (slice(int((m-2)/4),int(n-(n-2)/4)),slice(int((m-2)/4),int(n-(n-2)/4)))\n",
    "\n",
    "d_obj = 12.90 #MÅ VÆRE I CM^2/S\n",
    "d_luft = 0.22 #MÅ VÆRE I CM^2/S\n",
    "\n",
    "x = np.linspace(0, xsize, m+2)\n",
    "y = np.linspace(0, ysize, n+2)\n",
    "\n",
    "U0 = np.ones((m, n)) * 15 \n",
    "U0[:, 0] = U0[:, -1] = 200\n",
    "U0[0, :] = U0[-1, :] = 200\n",
    "\n",
    "#deriverer for uxx og uyy, og setter inn i diffusjonslikningen,\n",
    "def f(u):\n",
    "    u_xx = (np.roll(u, -1, axis=0) - 2 * u + np.roll(u, 1, axis=0)) / dx**2\n",
    "    u_yy = (np.roll(u, -1, axis=1) - 2 * u + np.roll(u, 1, axis=1)) / dy**2\n",
    "    u_new = d_luft * (u_xx + u_yy)\n",
    "    u_new[obj] = d_obj * (u_xx[obj] + u_yy[obj])\n",
    "    return u_new\n",
    "\n",
    "def euler(U, dt, steps):\n",
    "    u = np.copy(U)\n",
    "    for _ in range(steps):\n",
    "        u += dt * f(u)\n",
    "        u[:, 0] = u[:, -1] = 200\n",
    "        u[0, :] = u[-1, :] = 200\n",
    "    return u"
   ]
  },
  {
   "cell_type": "code",
   "execution_count": null,
   "metadata": {},
   "outputs": [
    {
     "name": "stdout",
     "output_type": "stream",
     "text": []
    },
    {
     "name": "stdout",
     "output_type": "stream",
     "text": []
    },
    {
     "name": "stdout",
     "output_type": "stream",
     "text": []
    }
   ],
   "source": [
    "ims = []\n",
    "\n",
    "fig, ax = plt.subplots(figsize=(8, 6))\n",
    "\n",
    "# Initial loop to find the approximate time step when the center reaches 60 degrees\n",
    "for i in range(0, steps, 750): \n",
    "    u_step = euler(U0, dt, i)\n",
    "    if u_step[int(m/2),int(n/2)] <= 60:\n",
    "        indeks = i\n",
    "    im = ax.imshow(u_step, cmap='inferno', animated=True, origin='lower')\n",
    "    ims.append([im])\n",
    "\n",
    "# Refine the time step to pinpoint when the center reaches 60 degrees\n",
    "u_step = euler(U0, dt, i)\n",
    "\n",
    "# Create the animation\n",
    "fig2, ax2 = plt.subplots(figsize=(8, 6))\n",
    "ani = animation.ArtistAnimation(fig, ims, interval=50, blit=True, repeat_delay=1000)\n",
    "\n",
    "# Add colorbar and title\n",
    "cbar = fig.colorbar(ims[0][0], ax=ax)\n",
    "cbar.set_label('temperatur (grader Celsius)')\n",
    "ax.set_title('varmeplot')\n",
    "\n",
    "# Display the animation\n",
    "HTML(ani.to_jshtml())\n",
    "\n",
    "for i in range():\n",
    "print(f\"Midten av legemet treffer 60 grader etter {i} tidssteg, {i*dt:.3f} sekunder, og da er temperaturen {u_step[50,50]:.3f} grader.\")\n"
   ]
  },
  {
   "cell_type": "code",
   "execution_count": null,
   "metadata": {},
   "outputs": [
    {
     "name": "stdout",
     "output_type": "stream",
     "text": []
    }
   ],
   "source": []
  }
 ],
 "metadata": {
  "kernelspec": {
   "display_name": "Python 3",
   "language": "python",
   "name": "python3"
  },
  "language_info": {
   "codemirror_mode": {
    "name": "ipython",
    "version": 3
   },
   "file_extension": ".py",
   "mimetype": "text/x-python",
   "name": "python",
   "nbconvert_exporter": "python",
   "pygments_lexer": "ipython3",
   "version": "3.13.1"
  }
 },
 "nbformat": 4,
 "nbformat_minor": 2
}
