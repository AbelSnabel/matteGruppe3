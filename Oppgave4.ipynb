{
 "cells": [
  {
   "cell_type": "markdown",
   "metadata": {},
   "source": [
    "## Oppgave 4: Varmeligning, 1D (5 poeng)\n",
    "\n",
    "Vi løser nå *varmeligningen*\n",
    "\n",
    "$$\n",
    "\\begin{align}\\tag{15}\n",
    "u_t(x,t) = u_{xx}(x,t) - f(x), \\quad t\\geq 0, -1<x<1\n",
    "\\end{align}\n",
    "$$\n",
    "hvor $f(x)=\\cos(\\pi x)$.\n",
    "\n",
    "Vi bruker initialbetingelsene\n",
    "$$\n",
    "\\begin{align}\\tag{16}\n",
    "u(x,0) = 1 + x + 5\\sin(\\pi x).\n",
    "\\end{align}\n",
    "$$\n",
    "\n",
    "Løs ligningen numerisk for (Dirichlet-)randbetingelsene $u(-1,t)=0$ og $u(1,t)=2$.\n",
    "\n",
    "Bruk forlengs Euler med et passende tidssteg.\n"
   ]
  },
  {
   "cell_type": "code",
   "execution_count": null,
   "metadata": {},
   "outputs": [],
   "source": [
    "#kodeblokk oppgave 4"
   ]
  }
 ],
 "metadata": {
  "language_info": {
   "name": "python"
  }
 },
 "nbformat": 4,
 "nbformat_minor": 2
}
