{
 "cells": [
  {
   "cell_type": "markdown",
   "metadata": {},
   "source": [
    "## Oppgave 1. (10 poeng)\n",
    "\n",
    "### a) Funksjonen $u(x,t)$.\n",
    "\n",
    "i) Hvis vi velger og holder fast et tidspunkt $t=t_0$ og ser på grafen til envariabelfunksjonen $u(x,t_0)$, hva er det grafen beskriver?\n",
    "\n",
    "ii) Hvis vi velger og holder fast en posisjon $x=x_0$ og ser på grafen til envariabelfunksjonen $u(x_0, t)$, hva er det grafen beskriver?\n",
    "\n",
    "iii) Tenk igjennom og forklar hva som skjer med funksjonen $u(x,t)$, hvis vi endrer lengden på strekningen $R$ (som vi brukte i definisjonen av $u(x,t)$), fra å være liten (f.eks. en billengde) til å bli stor (f.eks. $100$ billengder).\n",
    "\n",
    "### b) Funksjonen $v=v(u)$\n",
    "\n",
    "i) Forklar hvorfor $v(0)=v_{max}$, $v(u_{max})=0$ og $\\frac{dv}{du}\\leq 0$ er rimelige antakelser. \n",
    "\n",
    "ii) Regn og vis at $v(u)=v_{max}\\left(1-\\left(\\frac{u}{u_{max}}\\right)^p\\right)$ for alle verdier $p\\geq 1$ tilfredsstiller de fem antakelsene vi har listet opp ovenfor for hastighetsfunksjonen.\n",
    "\n",
    "iii) Lag to andre veldig ulike funksjoner $v(u)$ som tilfredsstiller antakelsene. Skriv ned funksjonene med en matematisk riktig formel, og tegn grafen til funksjonen ved hjelp av python. Dere må vise at funksjonene tilfredsstiller antakelsene.\n",
    "\n",
    "(Hint: kanskje du kan bruke trigonometriske eller logaritmiske funksjoner.)\n",
    "\n",
    "### c) De deriverte\n",
    "\n",
    "i) Hva er måleenhetene til $\\frac{dv}{du}$, $\\frac{\\partial u}{\\partial t}$, $\\frac{\\partial u}{\\partial x}$, $\\frac{\\partial v}{\\partial t}$ og $\\frac{\\partial v}{\\partial x}$?\n",
    "\n",
    "ii) Forklar hva hver av disse deriverte forteller oss om trafikkflyten. \n",
    "\n",
    "(Hint: $\\frac{\\partial v}{\\partial t}$ er *ikke* akselerasjonen til bilene)\n",
    "\n",
    "### d) Utregning av fluksen\n",
    "\n",
    "Forklar hvorfor fluksen er gitt ved\n",
    "$$\n",
    "\\begin{align}\\tag{10}\n",
    "    J(x,t)=J(u(x,t))=u(x,t)v(u(x,t)),\n",
    "\\end{align}\n",
    "$$\n",
    "der $v(u)$ er hastigheten til bilene når biltettheten er $u$. Det vil si at fluksen $J=J(u)$\n",
    "også er en funksjon av tettheten $u$.\n",
    "\n",
    "Prøv å gjøre forklaringen deres så presis og matematisk som mulig. Vis regning hvis det er nødvendig.\n",
    "\n",
    "\n",
    "### e) Maksimal fluks \n",
    "\n",
    "Fluksen er maksimal i et punkt $x$ når det strømmer så mange biler som mulig gjennom $x$. \n",
    "\n",
    "i) Hvis hastighetsfunksjonen er $v(u)=v_{max}\\left(1-\\frac{u}{u_{max}}\\right)$, hva er hastigheten når strømmen (fluksen) er maksimal? Hva er den maksimale fluksen?\n",
    "\n",
    "ii) Regn ut hastigheten ved maksimal fluks for hastighetsfunksjonen $v(u)=v_{max}\\left(1-\\left(\\frac{u}{u_{max}}\\right)^p\\right)$.  \n",
    "\n",
    "\n",
    "### f) Differensiallikningen\n",
    "\n",
    "Sjekk ved regning at begge sider av likningene \n",
    "$$\n",
    "\\begin{align}\\tag{11}\n",
    "    \\frac{\\partial u(x,t)}{\\partial t}=-\\frac{\\partial J(x,t)}{\\partial x}.\n",
    "\\end{align}\n",
    "$$\n",
    "har samme måleenhet. Hva er måleenheten?\n",
    "\n",
    "\n"
   ]
  },
  {
   "cell_type": "code",
   "execution_count": null,
   "metadata": {},
   "outputs": [],
   "source": [
    "#kodeblokk for oppgave 1"
   ]
  }
 ],
 "metadata": {
  "kernelspec": {
   "display_name": "Python 3",
   "language": "python",
   "name": "python3"
  },
  "language_info": {
   "codemirror_mode": {
    "name": "ipython",
    "version": 3
   },
   "file_extension": ".py",
   "mimetype": "text/x-python",
   "name": "python",
   "nbconvert_exporter": "python",
   "pygments_lexer": "ipython3",
   "version": "3.13.1"
  }
 },
 "nbformat": 4,
 "nbformat_minor": 2
}
