{
 "cells": [
  {
   "cell_type": "markdown",
   "metadata": {},
   "source": [
    "## Oppgave 5: Poissonligning, 2D (5 poeng)\n",
    "\n",
    "Nå skal vi se på numerisk løsning av Poissonligningen i 2 dimensjoner\n",
    "\n",
    "$$\n",
    "\\begin{align}\\tag{17}\n",
    "u_{xx} + u_{yy} = f(x,y), \\quad -5<x<5, 0<y<2.\n",
    "\\end{align}\n",
    "$$\n",
    "\n",
    "Vi velger $f=0$ og følgende randbetingelser:\n",
    "\n",
    "$$\n",
    "\\begin{align}\\tag{18}\n",
    "u(-5,y) = \\sin(2\\pi y), \\quad & 0\\leq y \\leq 2 \\\\\n",
    "u(x,0) = 0, \\quad & -5\\leq x \\leq 5 \\\\\n",
    "u(5,y) = \\sin(2\\pi y), \\quad & 0\\leq y \\leq 2 \\\\\n",
    "u(x,2) = \\sin(\\pi x), \\quad & -5 \\leq x \\leq 5\n",
    "\\end{align}\n",
    "$$\n",
    "\n",
    "Løs ligningen numerisk."
   ]
  },
  {
   "cell_type": "code",
   "execution_count": null,
   "metadata": {},
   "outputs": [],
   "source": [
    "#kodeblokk "
   ]
  }
 ],
 "metadata": {
  "language_info": {
   "name": "python"
  }
 },
 "nbformat": 4,
 "nbformat_minor": 2
}
