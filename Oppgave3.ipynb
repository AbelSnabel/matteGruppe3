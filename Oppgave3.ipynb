{
 "cells": [
  {
   "cell_type": "markdown",
   "metadata": {},
   "source": [
    "## Oppgave 3: Poissonligning, 1D (5 poeng)\n",
    "\n",
    "Vi begynner med å se på ligningen\n",
    "$$\n",
    "\\begin{align}\\tag{14}\n",
    "u_{xx}(x) = f(x), \\quad -1\\leq x\\leq 1\n",
    "\\end{align}\n",
    "$$\n",
    "hvor $f(x)=\\cos(\\pi x)$.\n",
    "\n",
    "### a)\n",
    "\n",
    "Løs ligningen analytisk for (Dirichlet-)randbetingelsene $u(-1) = 0$ og $u(1) = 2$.\n",
    "\n",
    "### b)\n",
    "\n",
    "Finn en numerisk løsning for likningen i a). \n",
    "\n",
    "Tegn grafen til løsningen sammen med løsningen fra a). Er løsningene like? \n",
    "\n"
   ]
  },
  {
   "cell_type": "code",
   "execution_count": null,
   "metadata": {},
   "outputs": [],
   "source": [
    "#kodeblokk oppgave 3"
   ]
  }
 ],
 "metadata": {
  "language_info": {
   "name": "python"
  }
 },
 "nbformat": 4,
 "nbformat_minor": 2
}
